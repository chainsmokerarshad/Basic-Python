{
 "cells": [
  {
   "cell_type": "markdown",
   "id": "87d62efd-2e9f-4051-a96d-d356ced43e60",
   "metadata": {},
   "source": [
    "1. Declare two variables, x and y, and assign them integer values. Swap the values of these variables without using any temporary variable."
   ]
  },
  {
   "cell_type": "code",
   "execution_count": 14,
   "id": "f54b0bbe-3a35-4b9f-9621-358ba4403b29",
   "metadata": {},
   "outputs": [
    {
     "name": "stdout",
     "output_type": "stream",
     "text": [
      "Before swap x: 20 and y: 30\n",
      "After swap x: 30 and y: 20\n"
     ]
    }
   ],
   "source": [
    "x = 20\n",
    "y = 30\n",
    "\n",
    "print(f\"Before swap x: {x} and y: {y}\")\n",
    "x,y = y, x\n",
    "print(f\"After swap x: {x} and y: {y}\")"
   ]
  },
  {
   "cell_type": "markdown",
   "id": "7898c5e0-6870-4d16-9925-b7ef40f20fdd",
   "metadata": {},
   "source": [
    "### 2. Create a program that calculates the area of a rectangle. Take the length and width as inputs from the user and store them in variables. Calculate and display the area.\n"
   ]
  },
  {
   "cell_type": "code",
   "execution_count": 15,
   "id": "e1820b75-7992-44c8-ad32-06614f1cc442",
   "metadata": {},
   "outputs": [
    {
     "name": "stdin",
     "output_type": "stream",
     "text": [
      "Enter the length of the rectangle:  20\n",
      "Enter the width of the rectangle:  30\n"
     ]
    },
    {
     "name": "stdout",
     "output_type": "stream",
     "text": [
      "The area of the rectangle is: 600.0\n"
     ]
    }
   ],
   "source": [
    "length = float(input(\"Enter the length of the rectangle: \")) \n",
    "width = float(input(\"Enter the width of the rectangle: \"))\n",
    "\n",
    "area = length * width\n",
    "\n",
    "print(\"The area of the rectangle is:\", area)"
   ]
  },
  {
   "cell_type": "markdown",
   "id": "66ba3925-9362-49d8-a301-cd0e9dc143b6",
   "metadata": {},
   "source": [
    "3. Write a Python program that converts temperatures from Celsius to Fahrenheit. Take the temperature in Celsius as input, store it in a variable, convert it to Fahrenheit, and display the result."
   ]
  },
  {
   "cell_type": "code",
   "execution_count": 1,
   "id": "cc158b76-6cb8-4046-8b85-d163d3ab1467",
   "metadata": {},
   "outputs": [
    {
     "name": "stdin",
     "output_type": "stream",
     "text": [
      "Enter temperature in Celsius:  36\n"
     ]
    },
    {
     "name": "stdout",
     "output_type": "stream",
     "text": [
      "36.0 Celsius is equal to 96.80 Fahrenheit\n"
     ]
    }
   ],
   "source": [
    "celsius_temperature = float(input(\"Enter temperature in Celsius: \"))\n",
    "\n",
    "fahrenheit_temperature = (celsius_temperature * 9/5) + 32\n",
    "\n",
    "print(f\"{celsius_temperature} Celsius is equal to {fahrenheit_temperature:.2f} Fahrenheit\")"
   ]
  },
  {
   "cell_type": "markdown",
   "id": "e7d4ac7d-b486-428c-8646-f9a1280406f4",
   "metadata": {},
   "source": [
    "String based questions\n",
    "1. Write a Python program that takes a string as input and prints the length of the string¶"
   ]
  },
  {
   "cell_type": "code",
   "execution_count": 3,
   "id": "8bb4ff1d-9f45-4752-be81-84c7c8aa3428",
   "metadata": {},
   "outputs": [
    {
     "name": "stdin",
     "output_type": "stream",
     "text": [
      "Enter a string:  computer vision\n"
     ]
    },
    {
     "name": "stdout",
     "output_type": "stream",
     "text": [
      "The length of the input string is: 15\n"
     ]
    }
   ],
   "source": [
    "input_string = input(\"Enter a string: \")\n",
    "string_length = len(input_string)\n",
    "print(\"The length of the input string is:\", string_length)"
   ]
  },
  {
   "cell_type": "markdown",
   "id": "bd1a2a15-2904-436a-92b5-b9f37db4466e",
   "metadata": {},
   "source": [
    "2. Create a program that takes a sentence from the user and counts the number of vowels (a, e, i, o, u) in the string."
   ]
  },
  {
   "cell_type": "code",
   "execution_count": 5,
   "id": "2a3f66f6-2890-4543-8667-55f355c34019",
   "metadata": {},
   "outputs": [
    {
     "name": "stdin",
     "output_type": "stream",
     "text": [
      "Enter a sentence:  data science python class assignment\n"
     ]
    },
    {
     "name": "stdout",
     "output_type": "stream",
     "text": [
      "Number of vowels: 10\n"
     ]
    }
   ],
   "source": [
    "sentence = input(\"Enter a sentence: \")\n",
    "vowel_count = 0\n",
    "for char in sentence:\n",
    "    char_lower = char.lower()\n",
    "    if char_lower in \"aeiou\":\n",
    "        vowel_count += 1\n",
    "print(\"Number of vowels:\", vowel_count)"
   ]
  },
  {
   "cell_type": "markdown",
   "id": "6693a92c-1734-48c2-8495-21db536d4150",
   "metadata": {},
   "source": [
    "3. Given a string, reverse the order of characters using string slicing and print the reversed string."
   ]
  },
  {
   "cell_type": "code",
   "execution_count": 6,
   "id": "02991b63-3815-478e-be51-5eb90c7fab1c",
   "metadata": {},
   "outputs": [
    {
     "name": "stdin",
     "output_type": "stream",
     "text": [
      "Enter a string:  computervision \n"
     ]
    },
    {
     "name": "stdout",
     "output_type": "stream",
     "text": [
      "Reversed string:  noisivretupmoc\n"
     ]
    }
   ],
   "source": [
    "input_string = input(\"Enter a string: \")\n",
    "reversed_string = input_string[::-1]\n",
    "print(\"Reversed string:\", reversed_string)"
   ]
  },
  {
   "cell_type": "markdown",
   "id": "cc1f9b1a-5dda-47db-98d9-fde521942129",
   "metadata": {},
   "source": [
    "4. Write a program that takes a string as input and checks if it is a palindrome (reads the same forwards and backwards)."
   ]
  },
  {
   "cell_type": "code",
   "execution_count": 7,
   "id": "058630fb-6e4d-475f-8d03-a0e53c79cd6d",
   "metadata": {},
   "outputs": [
    {
     "name": "stdin",
     "output_type": "stream",
     "text": [
      "Enter a string:  rajasthan\n"
     ]
    },
    {
     "name": "stdout",
     "output_type": "stream",
     "text": [
      "The input string is not a palindrome.\n"
     ]
    }
   ],
   "source": [
    "input_string = input(\"Enter a string: \")\n",
    "cleaned_string = input_string.replace(\" \", \"\").lower()\n",
    "reversed_string = cleaned_string[::-1]\n",
    "if cleaned_string == reversed_string:\n",
    "    print(\"The input string is a palindrome.\")\n",
    "else:\n",
    "    print(\"The input string is not a palindrome.\")"
   ]
  },
  {
   "cell_type": "markdown",
   "id": "b0672c23-d7ff-4b86-9680-fe7a24b738d6",
   "metadata": {},
   "source": [
    "5. Create a program that takes a string as input and removes all the spaces from it. Print the modified string without spaces."
   ]
  },
  {
   "cell_type": "code",
   "execution_count": 9,
   "id": "d761ef93-934f-419d-b61e-f856c81975f0",
   "metadata": {},
   "outputs": [
    {
     "name": "stdin",
     "output_type": "stream",
     "text": [
      "Enter a string:  hello\n"
     ]
    },
    {
     "name": "stdout",
     "output_type": "stream",
     "text": [
      "Modified string without spaces: h\n",
      "Modified string without spaces: he\n",
      "Modified string without spaces: hel\n",
      "Modified string without spaces: hell\n",
      "Modified string without spaces: hello\n"
     ]
    }
   ],
   "source": [
    "input_string = input(\"Enter a string: \")\n",
    "modified_string = \"\"\n",
    "for char in input_string:\n",
    "    if char != \" \":\n",
    "        modified_string += char\n",
    "        print(\"Modified string without spaces:\", modified_string)"
   ]
  },
  {
   "cell_type": "code",
   "execution_count": null,
   "id": "d4306915-c697-4a6c-bc61-fd2b57c01ab2",
   "metadata": {},
   "outputs": [],
   "source": []
  }
 ],
 "metadata": {
  "kernelspec": {
   "display_name": "Python 3 (ipykernel)",
   "language": "python",
   "name": "python3"
  },
  "language_info": {
   "codemirror_mode": {
    "name": "ipython",
    "version": 3
   },
   "file_extension": ".py",
   "mimetype": "text/x-python",
   "name": "python",
   "nbconvert_exporter": "python",
   "pygments_lexer": "ipython3",
   "version": "3.10.8"
  }
 },
 "nbformat": 4,
 "nbformat_minor": 5
}
